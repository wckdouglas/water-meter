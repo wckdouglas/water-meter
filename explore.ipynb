{
 "cells": [
  {
   "cell_type": "code",
   "execution_count": 125,
   "id": "d3027688-f8ec-4cd8-829c-5c70cbac3658",
   "metadata": {},
   "outputs": [],
   "source": [
    "import pandas as pd\n",
    "import numpy as np\n",
    "import matplotlib.pyplot as plt\n",
    "import seaborn as sns\n",
    "import datetime\n",
    "from matplotlib.dates import DateFormatter"
   ]
  },
  {
   "cell_type": "code",
   "execution_count": 158,
   "id": "dd08d596-021f-476b-ae93-92fe660f16ca",
   "metadata": {},
   "outputs": [
    {
     "data": {
      "text/html": [
       "<div>\n",
       "<style scoped>\n",
       "    .dataframe tbody tr th:only-of-type {\n",
       "        vertical-align: middle;\n",
       "    }\n",
       "\n",
       "    .dataframe tbody tr th {\n",
       "        vertical-align: top;\n",
       "    }\n",
       "\n",
       "    .dataframe thead th {\n",
       "        text-align: right;\n",
       "    }\n",
       "</style>\n",
       "<table border=\"1\" class=\"dataframe\">\n",
       "  <thead>\n",
       "    <tr style=\"text-align: right;\">\n",
       "      <th></th>\n",
       "      <th>Date</th>\n",
       "      <th>time</th>\n",
       "      <th>Reading</th>\n",
       "      <th>date_string</th>\n",
       "    </tr>\n",
       "  </thead>\n",
       "  <tbody>\n",
       "    <tr>\n",
       "      <th>0</th>\n",
       "      <td>2022-06-08</td>\n",
       "      <td>22:58</td>\n",
       "      <td>84467.29</td>\n",
       "      <td>2022-06-08 22:58:00</td>\n",
       "    </tr>\n",
       "    <tr>\n",
       "      <th>1</th>\n",
       "      <td>2022-06-09</td>\n",
       "      <td>6:29</td>\n",
       "      <td>84549.39</td>\n",
       "      <td>2022-06-09 06:29:00</td>\n",
       "    </tr>\n",
       "    <tr>\n",
       "      <th>2</th>\n",
       "      <td>2022-06-09</td>\n",
       "      <td>23:14</td>\n",
       "      <td>84655.95</td>\n",
       "      <td>2022-06-09 23:14:00</td>\n",
       "    </tr>\n",
       "    <tr>\n",
       "      <th>3</th>\n",
       "      <td>2022-06-10</td>\n",
       "      <td>8:15</td>\n",
       "      <td>84656.36</td>\n",
       "      <td>2022-06-10 08:15:00</td>\n",
       "    </tr>\n",
       "    <tr>\n",
       "      <th>4</th>\n",
       "      <td>2022-06-10</td>\n",
       "      <td>21:28</td>\n",
       "      <td>84727.43</td>\n",
       "      <td>2022-06-10 21:28:00</td>\n",
       "    </tr>\n",
       "    <tr>\n",
       "      <th>5</th>\n",
       "      <td>2022-06-11</td>\n",
       "      <td>19:13</td>\n",
       "      <td>84774.97</td>\n",
       "      <td>2022-06-11 19:13:00</td>\n",
       "    </tr>\n",
       "    <tr>\n",
       "      <th>6</th>\n",
       "      <td>2022-06-12</td>\n",
       "      <td>11:11</td>\n",
       "      <td>84831.26</td>\n",
       "      <td>2022-06-12 11:11:00</td>\n",
       "    </tr>\n",
       "    <tr>\n",
       "      <th>7</th>\n",
       "      <td>2022-06-12</td>\n",
       "      <td>19:29</td>\n",
       "      <td>84853.57</td>\n",
       "      <td>2022-06-12 19:29:00</td>\n",
       "    </tr>\n",
       "  </tbody>\n",
       "</table>\n",
       "</div>"
      ],
      "text/plain": [
       "         Date   time   Reading         date_string\n",
       "0  2022-06-08  22:58  84467.29 2022-06-08 22:58:00\n",
       "1  2022-06-09   6:29  84549.39 2022-06-09 06:29:00\n",
       "2  2022-06-09  23:14  84655.95 2022-06-09 23:14:00\n",
       "3  2022-06-10   8:15  84656.36 2022-06-10 08:15:00\n",
       "4  2022-06-10  21:28  84727.43 2022-06-10 21:28:00\n",
       "5  2022-06-11  19:13  84774.97 2022-06-11 19:13:00\n",
       "6  2022-06-12  11:11  84831.26 2022-06-12 11:11:00\n",
       "7  2022-06-12  19:29  84853.57 2022-06-12 19:29:00"
      ]
     },
     "execution_count": 158,
     "metadata": {},
     "output_type": "execute_result"
    }
   ],
   "source": [
    "df=pd.read_csv('water_meters.csv')\\\n",
    "    .assign(date_string=lambda d: d['Date'] + ' '+ d['time'])\\\n",
    "    .assign(date_string=lambda d: pd.to_datetime(d['date_string']))\n",
    "df"
   ]
  },
  {
   "cell_type": "code",
   "execution_count": 170,
   "id": "5113e57d-7744-48b1-80e3-8f6a02f7c25f",
   "metadata": {},
   "outputs": [
    {
     "data": {
      "image/png": "[encoded data removed]",
      "text/plain": [
       "<Figure size 432x288 with 1 Axes>"
      ]
     },
     "metadata": {
      "needs_background": "light"
     },
     "output_type": "display_data"
    }
   ],
   "source": [
    "per_hour_usage =  np.diff(df['Reading']) / (np.diff(df['date_string']).astype(float)) * 3.6e12\n",
    "date_time = df['date_string'][:-1].values + (df['date_string'][1:].values - df['date_string'][:-1].values)/2\n",
    "ax = plt.subplot()\n",
    "df.plot('date_string','Reading',ax=ax)\n",
    "ax.xaxis.set_major_formatter(date_form)\n",
    "start_time=df['date_string'].values[1].astype('datetime64[D]')\n",
    "for i in range(df.shape[0]):\n",
    "    hour_lapse = 8 if i % 2 == 0 else 16 # night and day\n",
    "    color = \"black\" if i %  2 == 0 else \"yellow\"\n",
    "    ax.axvspan(\n",
    "        start_time, \n",
    "        start_time + np.timedelta64(hour_lapse, 'h'), \n",
    "        alpha=0.2,\n",
    "        color=color,\n",
    "    )\n",
    "    start_time = start_time + np.timedelta64(hour_lapse, 'h')\n",
    "for t, u in zip(date_time, per_hour_usage):\n",
    "    ax.text(t, df['Reading'].max(), f\"{u:.2f}\", rotation=0, color='red', ha='center')\n",
    "ax.legend().set_visible(False)\n",
    "sns.despine()"
   ]
  },
  {
   "cell_type": "code",
   "execution_count": 145,
   "id": "56a06f03-35a7-475a-8105-26e8747d6a0a",
   "metadata": {},
   "outputs": [
    {
     "data": {
      "text/plain": [
       "0   2022-06-08 22:58:00\n",
       "1   2022-06-09 06:29:00\n",
       "2   2022-06-09 23:14:00\n",
       "3   2022-06-10 08:15:00\n",
       "4   2022-06-10 21:28:00\n",
       "5   2022-06-11 19:13:00\n",
       "6   2022-06-12 11:11:00\n",
       "7   2022-06-12 19:29:00\n",
       "Name: date_string, dtype: datetime64[ns]"
      ]
     },
     "execution_count": 145,
     "metadata": {},
     "output_type": "execute_result"
    }
   ],
   "source": [
    "df['date_string']"
   ]
  },
  {
   "cell_type": "code",
   "execution_count": 140,
   "id": "e3d3e9d1-afd5-4dd1-b434-78857be60e13",
   "metadata": {},
   "outputs": [
    {
     "data": {
      "image/png": "[encoded data removed]",
      "text/plain": [
       "<Figure size 432x288 with 1 Axes>"
      ]
     },
     "metadata": {
      "needs_background": "light"
     },
     "output_type": "display_data"
    }
   ],
   "source": [
    "fig=plt.figure()\n",
    "ax=fig.add_subplot()\n",
    "\n",
    "\n",
    "ax.scatter(\n",
    "    date_time, \n",
    "    per_hour_usage\n",
    ")\n",
    "\n",
    "start_time=df['date_string'].values[1].astype('datetime64[D]')\n",
    "for i in range(len(date_time)+1):\n",
    "    hour_lapse = 8 if i % 2 == 0 else 16 # night and day\n",
    "    color = \"black\" if i %  2 ==0 else \"yellow\"\n",
    "    ax.axvspan(\n",
    "        start_time, \n",
    "        start_time + np.timedelta64(hour_lapse, 'h'), \n",
    "        alpha=0.2,\n",
    "        color=color,\n",
    "    )\n",
    "    start_time = start_time + np.timedelta64(hour_lapse, 'h')\n",
    "sns.despine()\n",
    "for label in ax.get_xticklabels():\n",
    "    label.set_ha(\"right\")\n",
    "    label.set_rotation(45)\n",
    "    label.set_fontsize(15)\n",
    "    label.set_ha('right')\n",
    "    label.set_rotation_mode('anchor')\n",
    "#(, rotation=70, rotation_mode='anchor', ha='right')\n",
    "date_form = DateFormatter(\"%Y-%m-%d\")\n",
    "ax.xaxis.set_major_formatter(date_form)\n"
   ]
  },
  {
   "cell_type": "code",
   "execution_count": 139,
   "id": "a1749157-144d-4e12-a460-9ef8155c448a",
   "metadata": {},
   "outputs": [
    {
     "data": {
      "text/plain": [
       "numpy.datetime64('2022-06-08')"
      ]
     },
     "execution_count": 139,
     "metadata": {},
     "output_type": "execute_result"
    }
   ],
   "source": [
    "start_time=df['date_string'].values[0].astype('datetime64[D]')\n",
    "start_time"
   ]
  },
  {
   "cell_type": "code",
   "execution_count": null,
   "id": "39fba5c6-b921-4706-af8a-8c0634bba5e7",
   "metadata": {},
   "outputs": [],
   "source": []
  }
 ],
 "metadata": {
  "kernelspec": {
   "display_name": "mambaforge",
   "language": "python",
   "name": "mambaforge"
  },
  "language_info": {
   "codemirror_mode": {
    "name": "ipython",
    "version": 3
   },
   "file_extension": ".py",
   "mimetype": "text/x-python",
   "name": "python",
   "nbconvert_exporter": "python",
   "pygments_lexer": "ipython3",
   "version": "3.9.7"
  }
 },
 "nbformat": 4,
 "nbformat_minor": 5
}
